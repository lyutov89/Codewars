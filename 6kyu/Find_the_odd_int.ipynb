{
 "cells": [
  {
   "cell_type": "markdown",
   "id": "a4f9941b",
   "metadata": {},
   "source": [
    "__Task__"
   ]
  },
  {
   "cell_type": "markdown",
   "id": "1fad334f",
   "metadata": {},
   "source": [
    "Given an array of integers, find the one that appears an odd number of times.\n",
    "\n",
    "There will always be only one integer that appears an odd number of times.\n",
    "\n",
    "__Examples:__ "
   ]
  },
  {
   "cell_type": "code",
   "execution_count": null,
   "id": "b5c0d8c3",
   "metadata": {},
   "outputs": [],
   "source": [
    "[7] should return 7, because it occurs 1 time (which is odd).\n",
    "\n",
    "[0] should return 0, because it occurs 1 time (which is odd).\n",
    "\n",
    "[1, 1, 2] should return 2, because it occurs 1 time (which is odd).\n",
    "\n",
    "[0, 1, 0, 1, 0] should return 0, because it occurs 3 times (which is odd).\n",
    "\n",
    "[1, 2, 2, 3, 3, 3, 4, 3, 3, 3, 2, 2, 1] should return 4, because it appears 1 time (which is odd)."
   ]
  },
  {
   "cell_type": "markdown",
   "id": "05cc5601",
   "metadata": {},
   "source": [
    "__Decision__"
   ]
  },
  {
   "cell_type": "code",
   "execution_count": 10,
   "id": "4525cbef",
   "metadata": {},
   "outputs": [],
   "source": [
    "def find_it(seq):\n",
    "\n",
    "    for num in set(seq): \n",
    "        count = seq.count(num)\n",
    "        if count%2 == 1:\n",
    "            return num"
   ]
  },
  {
   "cell_type": "code",
   "execution_count": null,
   "id": "078f9875",
   "metadata": {},
   "outputs": [],
   "source": []
  }
 ],
 "metadata": {
  "kernelspec": {
   "display_name": "Python 3",
   "language": "python",
   "name": "python3"
  },
  "language_info": {
   "codemirror_mode": {
    "name": "ipython",
    "version": 3
   },
   "file_extension": ".py",
   "mimetype": "text/x-python",
   "name": "python",
   "nbconvert_exporter": "python",
   "pygments_lexer": "ipython3",
   "version": "3.9.6"
  }
 },
 "nbformat": 4,
 "nbformat_minor": 5
}

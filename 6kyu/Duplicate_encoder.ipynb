{
 "cells": [
  {
   "cell_type": "markdown",
   "id": "4291043a",
   "metadata": {},
   "source": [
    "## Duplicate encoder"
   ]
  },
  {
   "cell_type": "markdown",
   "id": "c072061b",
   "metadata": {},
   "source": [
    "The goal of this exercise is to convert a string to a new string where each character in the new string is \"(\" if that character appears only once in the original string, or \")\" if that character appears more than once in the original string. Ignore capitalization when determining if a character is a duplicate."
   ]
  },
  {
   "cell_type": "markdown",
   "id": "6c81fd3f",
   "metadata": {},
   "source": [
    "__Examples__"
   ]
  },
  {
   "cell_type": "markdown",
   "id": "b42e4784",
   "metadata": {},
   "source": [
    "\"din\"      =>  \"(((\"\n",
    "\n",
    "\"recede\"   =>  \"()()()\"\n",
    "\n",
    "\"Success\"  =>  \")())())\"\n",
    "\n",
    "\"(( @\"     =>  \"))((\""
   ]
  },
  {
   "cell_type": "markdown",
   "id": "c44c0e56",
   "metadata": {},
   "source": [
    "__Notes__   "
   ]
  },
  {
   "cell_type": "markdown",
   "id": "0b35350a",
   "metadata": {},
   "source": [
    "Assertion messages may be unclear about what they display in some languages. If you read \"...It Should encode XXX\", the \"XXX\" is the expected result, not the input!"
   ]
  },
  {
   "cell_type": "markdown",
   "id": "02a96472",
   "metadata": {},
   "source": [
    "## Decision"
   ]
  },
  {
   "cell_type": "code",
   "execution_count": 5,
   "id": "56143e6b",
   "metadata": {},
   "outputs": [],
   "source": [
    "def duplicate_encode(word):\n",
    "    #your code here\n",
    "    f=''\n",
    "    word = word.lower()\n",
    "    for i in range(len(word)):\n",
    "        spam = word[i]\n",
    "        if word.count(spam) == 1:\n",
    "            f=f+\"(\"\n",
    "        else: \n",
    "            f=f+\")\"\n",
    "    return f"
   ]
  },
  {
   "cell_type": "code",
   "execution_count": null,
   "id": "4bd37e6a",
   "metadata": {},
   "outputs": [],
   "source": []
  }
 ],
 "metadata": {
  "kernelspec": {
   "display_name": "Python 3",
   "language": "python",
   "name": "python3"
  },
  "language_info": {
   "codemirror_mode": {
    "name": "ipython",
    "version": 3
   },
   "file_extension": ".py",
   "mimetype": "text/x-python",
   "name": "python",
   "nbconvert_exporter": "python",
   "pygments_lexer": "ipython3",
   "version": "3.9.6"
  }
 },
 "nbformat": 4,
 "nbformat_minor": 5
}

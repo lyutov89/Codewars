{
 "cells": [
  {
   "cell_type": "markdown",
   "id": "852820d2",
   "metadata": {},
   "source": [
    "__Task__ "
   ]
  },
  {
   "cell_type": "markdown",
   "id": "2c2fdd9a",
   "metadata": {},
   "source": [
    "You probably know the \"like\" system from Facebook and other pages. People can \"like\" blog posts, pictures or other items. We want to create the text that should be displayed next to such an item.\n",
    "\n",
    "Implement the function which takes an array containing the names of people that like an item. It must return the display text as shown in the examples:"
   ]
  },
  {
   "cell_type": "code",
   "execution_count": null,
   "id": "8fc6f313",
   "metadata": {},
   "outputs": [],
   "source": [
    "[]                                -->  \"no one likes this\"\n",
    "[\"Peter\"]                         -->  \"Peter likes this\"\n",
    "[\"Jacob\", \"Alex\"]                 -->  \"Jacob and Alex like this\"\n",
    "[\"Max\", \"John\", \"Mark\"]           -->  \"Max, John and Mark like this\"\n",
    "[\"Alex\", \"Jacob\", \"Mark\", \"Max\"]  -->  \"Alex, Jacob and 2 others like this\""
   ]
  },
  {
   "cell_type": "markdown",
   "id": "e2d82772",
   "metadata": {},
   "source": [
    "Note: For 4 or more names, the number in \"and 2 others\" simply increases."
   ]
  },
  {
   "cell_type": "markdown",
   "id": "2a795628",
   "metadata": {},
   "source": [
    "__Decision___"
   ]
  },
  {
   "cell_type": "code",
   "execution_count": 1,
   "id": "fb6e4ecd",
   "metadata": {},
   "outputs": [],
   "source": [
    "def likes(names):\n",
    "    # your code here\n",
    "    if len(names) == 0:\n",
    "        return 'no one likes this'\n",
    "    elif len(names) == 1: \n",
    "        return f\"{names[0]} likes this\"\n",
    "    elif len(names) == 2: \n",
    "        return f\"{names[0]} and {names[1]} like this\"\n",
    "    elif len(names) == 3: \n",
    "        return f\"{names[0]}, {names[1]} and {names[2]} like this\"\n",
    "    else: \n",
    "        return f\"{names[0]}, {names[1]} and {len(names) - 2} others like this\""
   ]
  }
 ],
 "metadata": {
  "kernelspec": {
   "display_name": "Python 3",
   "language": "python",
   "name": "python3"
  },
  "language_info": {
   "codemirror_mode": {
    "name": "ipython",
    "version": 3
   },
   "file_extension": ".py",
   "mimetype": "text/x-python",
   "name": "python",
   "nbconvert_exporter": "python",
   "pygments_lexer": "ipython3",
   "version": "3.9.6"
  }
 },
 "nbformat": 4,
 "nbformat_minor": 5
}

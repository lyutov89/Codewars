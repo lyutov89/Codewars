{
 "cells": [
  {
   "cell_type": "markdown",
   "id": "9be1ff70",
   "metadata": {},
   "source": [
    "The distance formula can be used to find the distance between two points. What if we were trying to walk from point A to point B, but there were buildings in the way? We would need some other formula..but which?\n",
    "\n",
    "`Manhattan Distance`\n",
    "\n",
    "Manhattan distance is the distance between two points in a grid (like the grid-like street geography of the New York borough of Manhattan) calculated by only taking a vertical and/or horizontal path.\n",
    "\n",
    "Complete the function that accepts two points and returns the Manhattan Distance between the two points.\n",
    "\n",
    "The points are arrays or tuples containing the x and y coordinate in the grid. You can think of x as the row in the grid, and y as the column."
   ]
  },
  {
   "cell_type": "code",
   "execution_count": 1,
   "id": "e56f35f0",
   "metadata": {},
   "outputs": [],
   "source": [
    "def manhattan_distance(pointA, pointB):\n",
    "    distance = abs(pointA[0] - pointB[0]) + abs(pointA[1] - pointB[1])\n",
    "    return distance"
   ]
  },
  {
   "cell_type": "code",
   "execution_count": null,
   "id": "87ee1355",
   "metadata": {},
   "outputs": [],
   "source": []
  }
 ],
 "metadata": {
  "kernelspec": {
   "display_name": "Python 3",
   "language": "python",
   "name": "python3"
  },
  "language_info": {
   "codemirror_mode": {
    "name": "ipython",
    "version": 3
   },
   "file_extension": ".py",
   "mimetype": "text/x-python",
   "name": "python",
   "nbconvert_exporter": "python",
   "pygments_lexer": "ipython3",
   "version": "3.9.6"
  }
 },
 "nbformat": 4,
 "nbformat_minor": 5
}

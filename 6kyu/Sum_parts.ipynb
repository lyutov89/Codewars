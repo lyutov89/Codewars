{
 "cells": [
  {
   "cell_type": "markdown",
   "id": "63ff8675",
   "metadata": {},
   "source": [
    "Let us consider this example (array written in general format):\n",
    "\n",
    "ls = [0, 1, 3, 6, 10]\n",
    "\n",
    "Its following parts:"
   ]
  },
  {
   "cell_type": "code",
   "execution_count": 42,
   "id": "b5b01297",
   "metadata": {},
   "outputs": [],
   "source": [
    "ls = [0, 1, 3, 6, 10]\n",
    "ls = [1, 3, 6, 10]\n",
    "ls = [3, 6, 10]\n",
    "ls = [6, 10]\n",
    "ls = [10]\n",
    "ls = []"
   ]
  },
  {
   "cell_type": "markdown",
   "id": "986ad5c9",
   "metadata": {},
   "source": [
    "The corresponding sums are (put together in a list): [20, 20, 19, 16, 10, 0]\n",
    "\n",
    "The function parts_sums (or its variants in other languages) will take as parameter a list ls and return a list of the sums of its parts as defined above."
   ]
  },
  {
   "cell_type": "code",
   "execution_count": 40,
   "id": "73e02f4f",
   "metadata": {},
   "outputs": [],
   "source": [
    "def parts_sums(ls):\n",
    "    # your code\n",
    "    \n",
    "    ls = ls[::-1]\n",
    "    bucket = [0 for i in range(len(ls)+1)]\n",
    "    \n",
    "    for i in range(len(ls)):\n",
    "        if len(ls) == 0:\n",
    "            return bucket[0]\n",
    "        else:\n",
    "            bucket[i+1] = bucket[i] + ls[i]\n",
    "    \n",
    "    bucket = bucket[::-1]\n",
    "        \n",
    "    return bucket"
   ]
  }
 ],
 "metadata": {
  "kernelspec": {
   "display_name": "Python 3",
   "language": "python",
   "name": "python3"
  },
  "language_info": {
   "codemirror_mode": {
    "name": "ipython",
    "version": 3
   },
   "file_extension": ".py",
   "mimetype": "text/x-python",
   "name": "python",
   "nbconvert_exporter": "python",
   "pygments_lexer": "ipython3",
   "version": "3.9.6"
  }
 },
 "nbformat": 4,
 "nbformat_minor": 5
}

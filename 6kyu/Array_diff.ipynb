{
 "cells": [
  {
   "cell_type": "markdown",
   "id": "c180bb65",
   "metadata": {},
   "source": [
    "__Task__"
   ]
  },
  {
   "cell_type": "markdown",
   "id": "2918fa20",
   "metadata": {},
   "source": [
    "Your goal in this kata is to implement a difference function, which subtracts one list from another and returns the result.\n",
    "\n",
    "It should remove all values from list a, which are present in list b keeping their order."
   ]
  },
  {
   "cell_type": "code",
   "execution_count": null,
   "id": "4dedbfba",
   "metadata": {},
   "outputs": [],
   "source": [
    "array_diff([1,2],[1]) == [2]"
   ]
  },
  {
   "cell_type": "markdown",
   "id": "487ee356",
   "metadata": {},
   "source": [
    "If a value is present in b, all of its occurrences must be removed from the other:"
   ]
  },
  {
   "cell_type": "code",
   "execution_count": null,
   "id": "d5991675",
   "metadata": {},
   "outputs": [],
   "source": [
    "array_diff([1,2,2,2,3],[2]) == [1,3]"
   ]
  },
  {
   "cell_type": "markdown",
   "id": "87a29df0",
   "metadata": {},
   "source": [
    "__Decision__"
   ]
  },
  {
   "cell_type": "code",
   "execution_count": 25,
   "id": "f3f973b1",
   "metadata": {},
   "outputs": [],
   "source": [
    "def array_diff(a, b):\n",
    "    #your code here\n",
    "    for num in b: \n",
    "        if num in set(a):\n",
    "            while a.count(num) != 0:\n",
    "                a.remove(num)   \n",
    "    return a"
   ]
  }
 ],
 "metadata": {
  "kernelspec": {
   "display_name": "Python 3",
   "language": "python",
   "name": "python3"
  },
  "language_info": {
   "codemirror_mode": {
    "name": "ipython",
    "version": 3
   },
   "file_extension": ".py",
   "mimetype": "text/x-python",
   "name": "python",
   "nbconvert_exporter": "python",
   "pygments_lexer": "ipython3",
   "version": "3.9.6"
  }
 },
 "nbformat": 4,
 "nbformat_minor": 5
}

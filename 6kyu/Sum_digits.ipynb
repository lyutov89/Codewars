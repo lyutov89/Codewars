{
 "cells": [
  {
   "cell_type": "markdown",
   "metadata": {},
   "source": [
    "## DESCRIPTION:"
   ]
  },
  {
   "cell_type": "markdown",
   "metadata": {},
   "source": [
    "Digital root is the recursive sum of all the digits in a number.\n",
    "\n",
    "Given n, take the sum of the digits of n. If that value has more than one digit, continue reducing in this way until a single-digit number is produced. The input will be a non-negative integer."
   ]
  },
  {
   "cell_type": "markdown",
   "metadata": {},
   "source": [
    "## Examples"
   ]
  },
  {
   "cell_type": "markdown",
   "metadata": {},
   "source": [
    "16  -->  1 + 6 = 7\n",
    "    \n",
    "942  -->  9 + 4 + 2 = 15  -->  1 + 5 = 6\n",
    "\n",
    "132189  -->  1 + 3 + 2 + 1 + 8 + 9 = 24  -->  2 + 4 = 6\n",
    "\n",
    "493193  -->  4 + 9 + 3 + 1 + 9 + 3 = 29  -->  2 + 9 = 11  -->  1 + 1 = 2"
   ]
  },
  {
   "cell_type": "code",
   "execution_count": 1,
   "metadata": {},
   "outputs": [],
   "source": [
    "def digital_root(n):\n",
    "    \n",
    "    def list_digits(n): \n",
    "        str_a = str(n)\n",
    "        sum_spam = [int(str_a[i]) for i in range(len(str_a))]\n",
    "        return sum_spam\n",
    "    \n",
    "    def sum_digits(sum_spam):\n",
    "        f_sum = 0\n",
    "        for i in range(len(sum_spam)): \n",
    "            f_sum+=sum_spam[i]\n",
    "        return f_sum\n",
    "\n",
    "    spam = list_digits(n)\n",
    "    \n",
    "    f_sum = sum_digits(spam)\n",
    "\n",
    "    while f_sum>=10:\n",
    "\n",
    "        sum_spam = list_digits(f_sum)\n",
    "    #     print(sum_spam)\n",
    "        f_sum = sum_digits(sum_spam)\n",
    "        \n",
    "    return f_sum"
   ]
  },
  {
   "cell_type": "markdown",
   "metadata": {},
   "source": [
    "p.s. I don't use any internal libraries to accelerate my decision."
   ]
  },
  {
   "cell_type": "code",
   "execution_count": null,
   "metadata": {},
   "outputs": [],
   "source": []
  },
  {
   "cell_type": "code",
   "execution_count": null,
   "metadata": {},
   "outputs": [],
   "source": []
  },
  {
   "cell_type": "code",
   "execution_count": null,
   "metadata": {},
   "outputs": [],
   "source": []
  },
  {
   "cell_type": "code",
   "execution_count": null,
   "metadata": {},
   "outputs": [],
   "source": []
  },
  {
   "cell_type": "code",
   "execution_count": null,
   "metadata": {},
   "outputs": [],
   "source": []
  }
 ],
 "metadata": {
  "interpreter": {
   "hash": "1da9ba6349d21d963047bef3c7d09d389c23cb2d503c67aaa14f7902d4f07d5d"
  },
  "kernelspec": {
   "display_name": "Python 3.9.6 64-bit",
   "language": "python",
   "name": "python3"
  },
  "language_info": {
   "codemirror_mode": {
    "name": "ipython",
    "version": 3
   },
   "file_extension": ".py",
   "mimetype": "text/x-python",
   "name": "python",
   "nbconvert_exporter": "python",
   "pygments_lexer": "ipython3",
   "version": "3.9.6"
  },
  "orig_nbformat": 4
 },
 "nbformat": 4,
 "nbformat_minor": 2
}
